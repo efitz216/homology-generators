{
 "cells": [
  {
   "cell_type": "code",
   "execution_count": 12,
   "metadata": {},
   "outputs": [],
   "source": [
    "import numpy as np\n",
    "import gudhi as gd\n",
    "from simphom import *\n",
    "import sympy as sp"
   ]
  },
  {
   "cell_type": "code",
   "execution_count": null,
   "metadata": {},
   "outputs": [],
   "source": [
    "# please run:\n",
    "# pip install gudhi"
   ]
  },
  {
   "cell_type": "markdown",
   "metadata": {},
   "source": [
    "### The module simphom allows us to compute the generating cycles for homology of simplicial complexes"
   ]
  },
  {
   "cell_type": "markdown",
   "metadata": {},
   "source": [
    "##### Companion Arrays\n",
    "In order to accommodate as many simplicial complex data types as possible, we convert our simplicial complex into a two-dimensional python list called a companion array.\n",
    "\n",
    "The $i^\\text{th}$ list in this array is a list of the $i$-simplices of the complex.\n",
    "\n",
    "This code was written mainly for Gudhi, but by modifying the companion_array function we can find generators for homology starting from any kind of simplicial complex."
   ]
  },
  {
   "cell_type": "code",
   "execution_count": 2,
   "metadata": {},
   "outputs": [
    {
     "data": {
      "text/plain": [
       "True"
      ]
     },
     "execution_count": 2,
     "metadata": {},
     "output_type": "execute_result"
    }
   ],
   "source": [
    "# this cell creates several examples of simplex trees we can work with\n",
    "\n",
    "# triangulation of an n sphere\n",
    "def Sphere(n):\n",
    "    # create a tree\n",
    "    S = gd.SimplexTree()\n",
    "    # create a list corresponding to an n+1 simplex \n",
    "    ball = [i for i in range(n+2)]\n",
    "    # insert the n+1 simplex in the tree\n",
    "    S.insert(ball)\n",
    "    # remove the inside of this n+1 simplex so we are just left with its boundary, the n sphere.\n",
    "    S.remove_maximal_simplex(ball)\n",
    "    return S\n",
    "\n",
    "def wedge_of_circles(n):\n",
    "    # create a tree\n",
    "    W = gd.SimplexTree()\n",
    "    # insert the 1 simplex [n,n+1] which will be one part of each circle\n",
    "    W.insert([n, n+1])\n",
    "    # for each i < n\n",
    "    for i in range(n):\n",
    "        # insert a simplex between i and n and a simplex between i and n+1\n",
    "        W.insert([i,n])\n",
    "        W.insert([i,n+1])\n",
    "    \n",
    "    return W\n",
    "\n",
    "# triangulation of the torus\n",
    "Torus = gd.SimplexTree()\n",
    "Torus.insert([0,1,8])\n",
    "Torus.insert([0,3,8])\n",
    "Torus.insert([3,7,8])\n",
    "Torus.insert([3,4,7])\n",
    "Torus.insert([1,4,7])\n",
    "Torus.insert([0,1,4])\n",
    "Torus.insert([1,2,5])\n",
    "Torus.insert([1,5,8])\n",
    "Torus.insert([5,6,8])\n",
    "Torus.insert([6,7,8])\n",
    "Torus.insert([2,6,7])\n",
    "Torus.insert([1,2,7])\n",
    "Torus.insert([0,2,3])\n",
    "Torus.insert([2,3,5])\n",
    "Torus.insert([3,4,5])\n",
    "Torus.insert([4,5,6])\n",
    "Torus.insert([0,4,6])\n",
    "Torus.insert([0,2,6])\n",
    "\n",
    "# triangulation of the Klein_Bottle\n",
    "Klein_Bottle = gd.SimplexTree()\n",
    "Klein_Bottle.insert([0,1,4])\n",
    "Klein_Bottle.insert([0,1,6])\n",
    "Klein_Bottle.insert([0,2,6])\n",
    "Klein_Bottle.insert([0,2,8])\n",
    "Klein_Bottle.insert([0,3,4])\n",
    "Klein_Bottle.insert([0,3,8])\n",
    "Klein_Bottle.insert([1,6,7])\n",
    "Klein_Bottle.insert([1,2,7])\n",
    "Klein_Bottle.insert([1,2,5])\n",
    "Klein_Bottle.insert([1,4,5])\n",
    "Klein_Bottle.insert([2,7,8])\n",
    "Klein_Bottle.insert([2,5,6])\n",
    "Klein_Bottle.insert([3,4,7])\n",
    "Klein_Bottle.insert([3,6,7])\n",
    "Klein_Bottle.insert([3,5,8])\n",
    "Klein_Bottle.insert([3,5,6])\n",
    "Klein_Bottle.insert([4,5,8])\n",
    "Klein_Bottle.insert([4,7,8])\n"
   ]
  },
  {
   "cell_type": "markdown",
   "metadata": {},
   "source": [
    "Let's take a look at what a companion array looks like:"
   ]
  },
  {
   "cell_type": "code",
   "execution_count": 3,
   "metadata": {},
   "outputs": [
    {
     "name": "stdout",
     "output_type": "stream",
     "text": [
      "Here are the simplices in the 0-sphere:\n",
      "[0]\n",
      "[1]\n",
      "Meanwhile, this is what its companion array looks like:\n",
      "[\n",
      "[[0], [1]]\n",
      "]\n",
      "\n",
      "Here are the simplices in the 1-sphere:\n",
      "[0, 1]\n",
      "[0, 2]\n",
      "[0]\n",
      "[1, 2]\n",
      "[1]\n",
      "[2]\n",
      "Meanwhile, this is what its companion array looks like:\n",
      "[\n",
      "[[0], [1], [2]]\n",
      "[[0, 1], [0, 2], [1, 2]]\n",
      "]\n",
      "\n",
      "Here are the simplices in the 2-sphere:\n",
      "[0, 1, 2]\n",
      "[0, 1, 3]\n",
      "[0, 1]\n",
      "[0, 2, 3]\n",
      "[0, 2]\n",
      "[0, 3]\n",
      "[0]\n",
      "[1, 2, 3]\n",
      "[1, 2]\n",
      "[1, 3]\n",
      "[1]\n",
      "[2, 3]\n",
      "[2]\n",
      "[3]\n",
      "Meanwhile, this is what its companion array looks like:\n",
      "[\n",
      "[[0], [1], [2], [3]]\n",
      "[[0, 1], [0, 2], [0, 3], [1, 2], [1, 3], [2, 3]]\n",
      "[[0, 1, 2], [0, 1, 3], [0, 2, 3], [1, 2, 3]]\n",
      "]\n",
      "\n"
     ]
    }
   ],
   "source": [
    "# for some spheres\n",
    "for n in range(3):\n",
    "    print(f\"Here are the simplices in the {n}-sphere:\")\n",
    "    Sn = Sphere(n)\n",
    "    for i,f in Sn.get_simplices():\n",
    "        print(i)\n",
    "    \n",
    "    print(\"Meanwhile, this is what its companion array looks like:\")\n",
    "    Sn_c = companion_array(Sn)\n",
    "    print('[')\n",
    "    for l in Sn_c:\n",
    "        print(l)\n",
    "    print(']')\n",
    "    print()"
   ]
  },
  {
   "cell_type": "code",
   "execution_count": 4,
   "metadata": {},
   "outputs": [
    {
     "name": "stdout",
     "output_type": "stream",
     "text": [
      "Here are the simplices in the Torus:\n",
      "[0, 1, 4]\n",
      "[0, 1, 8]\n",
      "[0, 1]\n",
      "[0, 2, 3]\n",
      "[0, 2, 6]\n",
      "[0, 2]\n",
      "[0, 3, 8]\n",
      "[0, 3]\n",
      "[0, 4, 6]\n",
      "[0, 4]\n",
      "[0, 6]\n",
      "[0, 8]\n",
      "[0]\n",
      "[1, 2, 5]\n",
      "[1, 2, 7]\n",
      "[1, 2]\n",
      "[1, 4, 7]\n",
      "[1, 4]\n",
      "[1, 5, 8]\n",
      "[1, 5]\n",
      "[1, 7]\n",
      "[1, 8]\n",
      "[1]\n",
      "[2, 3, 5]\n",
      "[2, 3]\n",
      "[2, 5]\n",
      "[2, 6, 7]\n",
      "[2, 6]\n",
      "[2, 7]\n",
      "[2]\n",
      "[3, 4, 5]\n",
      "[3, 4, 7]\n",
      "[3, 4]\n",
      "[3, 5]\n",
      "[3, 7, 8]\n",
      "[3, 7]\n",
      "[3, 8]\n",
      "[3]\n",
      "[4, 5, 6]\n",
      "[4, 5]\n",
      "[4, 6]\n",
      "[4, 7]\n",
      "[4]\n",
      "[5, 6, 8]\n",
      "[5, 6]\n",
      "[5, 8]\n",
      "[5]\n",
      "[6, 7, 8]\n",
      "[6, 7]\n",
      "[6, 8]\n",
      "[6]\n",
      "[7, 8]\n",
      "[7]\n",
      "[8]\n",
      "Meanwhile, this is what its companion array looks like:\n",
      "[\n",
      "[[0], [1], [2], [3], [4], [5], [6], [7], [8]]\n",
      "[[0, 1], [0, 2], [0, 3], [0, 4], [0, 6], [0, 8], [1, 2], [1, 4], [1, 5], [1, 7], [1, 8], [2, 3], [2, 5], [2, 6], [2, 7], [3, 4], [3, 5], [3, 7], [3, 8], [4, 5], [4, 6], [4, 7], [5, 6], [5, 8], [6, 7], [6, 8], [7, 8]]\n",
      "[[0, 1, 4], [0, 1, 8], [0, 2, 3], [0, 2, 6], [0, 3, 8], [0, 4, 6], [1, 2, 5], [1, 2, 7], [1, 4, 7], [1, 5, 8], [2, 3, 5], [2, 6, 7], [3, 4, 5], [3, 4, 7], [3, 7, 8], [4, 5, 6], [5, 6, 8], [6, 7, 8]]\n",
      "]\n"
     ]
    }
   ],
   "source": [
    "# for the torus now:\n",
    "print(\"Here are the simplices in the Torus:\")\n",
    "for i,f in Torus.get_simplices():\n",
    "    print(i)\n",
    "\n",
    "print(\"Meanwhile, this is what its companion array looks like:\")\n",
    "Torus_c = companion_array(Torus)\n",
    "print('[')\n",
    "for l in Torus_c:\n",
    "    print(l)\n",
    "print(']')"
   ]
  },
  {
   "cell_type": "markdown",
   "metadata": {},
   "source": [
    "#### Homology and Generators"
   ]
  },
  {
   "cell_type": "markdown",
   "metadata": {},
   "source": [
    "The homology function takes two arguments and one optional argument. First, we provide a simplicial complex which we want to find the homology of. Next, we give an index which we want to start at. By default, this will return only the homology in this degree. The third argument is an ending index. This allows us to find just one degree or a range of degrees, including finding all degrees at once."
   ]
  },
  {
   "cell_type": "code",
   "execution_count": 5,
   "metadata": {},
   "outputs": [
    {
     "name": "stdout",
     "output_type": "stream",
     "text": [
      "The homology function returns three things:\n",
      " - a 2 dimensional list of generators where each row is a list of generators expressed in the basis which is the corresponding row of the companion array\n",
      " - the starting index given\n",
      " - the companion array which was computed.\n",
      "The generators for the homology of the 0-sphere are:\n",
      "[\n",
      "[[1, 0], [0, 1]]\n",
      "]\n",
      "Starting at the index start = 0\n",
      "The generators for the homology of the 1-sphere are:\n",
      "[\n",
      "[[1, 0, 0]]\n",
      "[[1, -1, 1]]\n",
      "]\n",
      "Starting at the index start = 0\n",
      "The generators for the homology of the 2-sphere are:\n",
      "[\n",
      "[[1, 0, 0, 0]]\n",
      "[]\n",
      "[[-1, 1, -1, 1]]\n",
      "]\n",
      "Starting at the index start = 0\n",
      "The generators for the homology of the 3-sphere are:\n",
      "[\n",
      "[[1, 0, 0, 0, 0]]\n",
      "[]\n",
      "[]\n",
      "[[1, -1, 1, -1, 1]]\n",
      "]\n",
      "Starting at the index start = 0\n"
     ]
    }
   ],
   "source": [
    "# for some spheres:\n",
    "\n",
    "print(\"The homology function returns three things:\")\n",
    "print(\" - a 2 dimensional list of generators where each row is a list of generators expressed in the basis which is the corresponding row of the companion array\")\n",
    "print(\" - the starting index given\")\n",
    "print(\" - the companion array which was computed.\")\n",
    "\n",
    "for n in range(4):\n",
    "    generators,start,companion = homology(Sphere(n), 0, n)\n",
    "    print(f\"The generators for the homology of the {n}-sphere are:\")\n",
    "    print(\"[\")\n",
    "    for i in generators:\n",
    "        print(i)\n",
    "    print(\"]\")\n",
    "\n",
    "    print(f\"Starting at the index start = {start}\")"
   ]
  },
  {
   "cell_type": "markdown",
   "metadata": {},
   "source": [
    "One downside of this output is it can be hard to read within the context of our original simplicial complex. To amend this, we have a function display_generators which will display the generators in terms of linear combinations of the simplices formatted as they are stored in the companion array. This takes the same three things returned from the homology function as input."
   ]
  },
  {
   "cell_type": "code",
   "execution_count": 7,
   "metadata": {},
   "outputs": [
    {
     "name": "stdout",
     "output_type": "stream",
     "text": [
      "The generators for the homology of the 0-sphere are:\n",
      "\n",
      "The free generators in degree 0 are:\n"
     ]
    },
    {
     "data": {
      "text/latex": [
       "$\\displaystyle [0]$"
      ],
      "text/plain": [
       "<IPython.core.display.Math object>"
      ]
     },
     "metadata": {},
     "output_type": "display_data"
    },
    {
     "data": {
      "text/latex": [
       "$\\displaystyle [1]$"
      ],
      "text/plain": [
       "<IPython.core.display.Math object>"
      ]
     },
     "metadata": {},
     "output_type": "display_data"
    },
    {
     "name": "stdout",
     "output_type": "stream",
     "text": [
      "\n",
      "\n",
      "The generators for the homology of the 1-sphere are:\n",
      "\n",
      "The free generators in degree 0 are:\n"
     ]
    },
    {
     "data": {
      "text/latex": [
       "$\\displaystyle [0]$"
      ],
      "text/plain": [
       "<IPython.core.display.Math object>"
      ]
     },
     "metadata": {},
     "output_type": "display_data"
    },
    {
     "name": "stdout",
     "output_type": "stream",
     "text": [
      "The free generators in degree 1 are:\n"
     ]
    },
    {
     "data": {
      "text/latex": [
       "$\\displaystyle [0, 1]-[0, 2]+[1, 2]$"
      ],
      "text/plain": [
       "<IPython.core.display.Math object>"
      ]
     },
     "metadata": {},
     "output_type": "display_data"
    },
    {
     "name": "stdout",
     "output_type": "stream",
     "text": [
      "\n",
      "\n",
      "The generators for the homology of the 2-sphere are:\n",
      "\n",
      "The free generators in degree 0 are:\n"
     ]
    },
    {
     "data": {
      "text/latex": [
       "$\\displaystyle [0]$"
      ],
      "text/plain": [
       "<IPython.core.display.Math object>"
      ]
     },
     "metadata": {},
     "output_type": "display_data"
    },
    {
     "name": "stdout",
     "output_type": "stream",
     "text": [
      "There are no free generators in degree 1.\n",
      "\n",
      "The free generators in degree 2 are:\n"
     ]
    },
    {
     "data": {
      "text/latex": [
       "$\\displaystyle -[0, 1, 2]+[0, 1, 3]-[0, 2, 3]+[1, 2, 3]$"
      ],
      "text/plain": [
       "<IPython.core.display.Math object>"
      ]
     },
     "metadata": {},
     "output_type": "display_data"
    },
    {
     "name": "stdout",
     "output_type": "stream",
     "text": [
      "\n",
      "\n",
      "The generators for the homology of the 3-sphere are:\n",
      "\n",
      "The free generators in degree 0 are:\n"
     ]
    },
    {
     "data": {
      "text/latex": [
       "$\\displaystyle [0]$"
      ],
      "text/plain": [
       "<IPython.core.display.Math object>"
      ]
     },
     "metadata": {},
     "output_type": "display_data"
    },
    {
     "name": "stdout",
     "output_type": "stream",
     "text": [
      "There are no free generators in degree 1.\n",
      "\n",
      "There are no free generators in degree 2.\n",
      "\n",
      "The free generators in degree 3 are:\n"
     ]
    },
    {
     "data": {
      "text/latex": [
       "$\\displaystyle [0, 1, 2, 3]-[0, 1, 2, 4]+[0, 1, 3, 4]-[0, 2, 3, 4]+[1, 2, 3, 4]$"
      ],
      "text/plain": [
       "<IPython.core.display.Math object>"
      ]
     },
     "metadata": {},
     "output_type": "display_data"
    },
    {
     "name": "stdout",
     "output_type": "stream",
     "text": [
      "\n",
      "\n"
     ]
    }
   ],
   "source": [
    "for n in range(4):\n",
    "    print(f\"The generators for the homology of the {n}-sphere are:\")\n",
    "    print()\n",
    "    display_generators(*homology(Sphere(n), 0, n))\n",
    "    print()\n",
    "    print()"
   ]
  },
  {
   "cell_type": "markdown",
   "metadata": {},
   "source": [
    "Now, we can try looking at different examples. Below are some wedges of circles and a torus."
   ]
  },
  {
   "cell_type": "code",
   "execution_count": 9,
   "metadata": {},
   "outputs": [
    {
     "name": "stdout",
     "output_type": "stream",
     "text": [
      "The generators for the homology of a wedge of 0 circles are:\n",
      "\n",
      "The free generators in degree 0 are:\n"
     ]
    },
    {
     "data": {
      "text/latex": [
       "$\\displaystyle [0]$"
      ],
      "text/plain": [
       "<IPython.core.display.Math object>"
      ]
     },
     "metadata": {},
     "output_type": "display_data"
    },
    {
     "name": "stdout",
     "output_type": "stream",
     "text": [
      "There are no free generators in degree 1.\n",
      "\n",
      "\n",
      "\n",
      "The generators for the homology of a wedge of 1 circles are:\n",
      "\n",
      "The free generators in degree 0 are:\n"
     ]
    },
    {
     "data": {
      "text/latex": [
       "$\\displaystyle [0]$"
      ],
      "text/plain": [
       "<IPython.core.display.Math object>"
      ]
     },
     "metadata": {},
     "output_type": "display_data"
    },
    {
     "name": "stdout",
     "output_type": "stream",
     "text": [
      "The free generators in degree 1 are:\n"
     ]
    },
    {
     "data": {
      "text/latex": [
       "$\\displaystyle [0, 1]-[0, 2]+[1, 2]$"
      ],
      "text/plain": [
       "<IPython.core.display.Math object>"
      ]
     },
     "metadata": {},
     "output_type": "display_data"
    },
    {
     "name": "stdout",
     "output_type": "stream",
     "text": [
      "\n",
      "\n",
      "The generators for the homology of a wedge of 2 circles are:\n",
      "\n",
      "The free generators in degree 0 are:\n"
     ]
    },
    {
     "data": {
      "text/latex": [
       "$\\displaystyle [0]$"
      ],
      "text/plain": [
       "<IPython.core.display.Math object>"
      ]
     },
     "metadata": {},
     "output_type": "display_data"
    },
    {
     "name": "stdout",
     "output_type": "stream",
     "text": [
      "The free generators in degree 1 are:\n"
     ]
    },
    {
     "data": {
      "text/latex": [
       "$\\displaystyle [0, 2]-[0, 3]-[1, 2]+[1, 3]$"
      ],
      "text/plain": [
       "<IPython.core.display.Math object>"
      ]
     },
     "metadata": {},
     "output_type": "display_data"
    },
    {
     "data": {
      "text/latex": [
       "$\\displaystyle [0, 2]-[0, 3]+[2, 3]$"
      ],
      "text/plain": [
       "<IPython.core.display.Math object>"
      ]
     },
     "metadata": {},
     "output_type": "display_data"
    },
    {
     "name": "stdout",
     "output_type": "stream",
     "text": [
      "\n",
      "\n",
      "The generators for the homology of a wedge of 3 circles are:\n",
      "\n",
      "The free generators in degree 0 are:\n"
     ]
    },
    {
     "data": {
      "text/latex": [
       "$\\displaystyle [0]$"
      ],
      "text/plain": [
       "<IPython.core.display.Math object>"
      ]
     },
     "metadata": {},
     "output_type": "display_data"
    },
    {
     "name": "stdout",
     "output_type": "stream",
     "text": [
      "The free generators in degree 1 are:\n"
     ]
    },
    {
     "data": {
      "text/latex": [
       "$\\displaystyle [0, 3]-[0, 4]-[1, 3]+[1, 4]$"
      ],
      "text/plain": [
       "<IPython.core.display.Math object>"
      ]
     },
     "metadata": {},
     "output_type": "display_data"
    },
    {
     "data": {
      "text/latex": [
       "$\\displaystyle [0, 3]-[0, 4]-[2, 3]+[2, 4]$"
      ],
      "text/plain": [
       "<IPython.core.display.Math object>"
      ]
     },
     "metadata": {},
     "output_type": "display_data"
    },
    {
     "data": {
      "text/latex": [
       "$\\displaystyle [0, 3]-[0, 4]+[3, 4]$"
      ],
      "text/plain": [
       "<IPython.core.display.Math object>"
      ]
     },
     "metadata": {},
     "output_type": "display_data"
    },
    {
     "name": "stdout",
     "output_type": "stream",
     "text": [
      "\n",
      "\n"
     ]
    }
   ],
   "source": [
    "for n in range(4):\n",
    "    print(f\"The generators for the homology of a wedge of {n} circles are:\")\n",
    "    print()\n",
    "    display_generators(*homology(wedge_of_circles(n), 0, 1))\n",
    "    print()\n",
    "    print()"
   ]
  },
  {
   "cell_type": "markdown",
   "metadata": {},
   "source": [
    "Something you might notice is that these might not be the generators you were expecting (given the way the wedge of circles simplicial complex is constructed). This points out an interesting problem which is that these generators are just one possible set of representatives. This code does not give us a set of all possible representatives, it only takes the first one it finds."
   ]
  },
  {
   "cell_type": "code",
   "execution_count": 10,
   "metadata": {},
   "outputs": [
    {
     "name": "stdout",
     "output_type": "stream",
     "text": [
      "The free generators in degree 0 are:\n"
     ]
    },
    {
     "data": {
      "text/latex": [
       "$\\displaystyle [0]$"
      ],
      "text/plain": [
       "<IPython.core.display.Math object>"
      ]
     },
     "metadata": {},
     "output_type": "display_data"
    },
    {
     "name": "stdout",
     "output_type": "stream",
     "text": [
      "The free generators in degree 1 are:\n"
     ]
    },
    {
     "data": {
      "text/latex": [
       "$\\displaystyle [0, 1]-[0, 2]+[1, 2]$"
      ],
      "text/plain": [
       "<IPython.core.display.Math object>"
      ]
     },
     "metadata": {},
     "output_type": "display_data"
    },
    {
     "data": {
      "text/latex": [
       "$\\displaystyle [0, 3]-[0, 4]+[3, 4]$"
      ],
      "text/plain": [
       "<IPython.core.display.Math object>"
      ]
     },
     "metadata": {},
     "output_type": "display_data"
    },
    {
     "name": "stdout",
     "output_type": "stream",
     "text": [
      "The free generators in degree 2 are:\n"
     ]
    },
    {
     "data": {
      "text/latex": [
       "$\\displaystyle -[0, 1, 4]+[0, 1, 8]-[0, 2, 3]+[0, 2, 6]-[0, 3, 8]-[0, 4, 6]+[1, 2, 5]-[1, 2, 7]+[1, 4, 7]+[1, 5, 8]+[2, 3, 5]-[2, 6, 7]+[3, 4, 5]-[3, 4, 7]-[3, 7, 8]-[4, 5, 6]+[5, 6, 8]+[6, 7, 8]$"
      ],
      "text/plain": [
       "<IPython.core.display.Math object>"
      ]
     },
     "metadata": {},
     "output_type": "display_data"
    }
   ],
   "source": [
    "display_generators(*homology(Torus,0,2))"
   ]
  },
  {
   "cell_type": "markdown",
   "metadata": {},
   "source": [
    "One last thing to note is that this is computing homology with integer coefficients, thus, it only finds free generators and ignores torsion. This can be seen in the next example."
   ]
  },
  {
   "cell_type": "code",
   "execution_count": 11,
   "metadata": {},
   "outputs": [
    {
     "name": "stdout",
     "output_type": "stream",
     "text": [
      "The free generators in degree 0 are:\n"
     ]
    },
    {
     "data": {
      "text/latex": [
       "$\\displaystyle [0]$"
      ],
      "text/plain": [
       "<IPython.core.display.Math object>"
      ]
     },
     "metadata": {},
     "output_type": "display_data"
    },
    {
     "name": "stdout",
     "output_type": "stream",
     "text": [
      "The free generators in degree 1 are:\n"
     ]
    },
    {
     "data": {
      "text/latex": [
       "$\\displaystyle [0, 1]-[0, 2]+[1, 2]$"
      ],
      "text/plain": [
       "<IPython.core.display.Math object>"
      ]
     },
     "metadata": {},
     "output_type": "display_data"
    },
    {
     "name": "stdout",
     "output_type": "stream",
     "text": [
      "There are no free generators in degree 2.\n",
      "\n"
     ]
    }
   ],
   "source": [
    "display_generators(*homology(Klein_Bottle,0,3))"
   ]
  },
  {
   "cell_type": "markdown",
   "metadata": {},
   "source": [
    "The expected homology of the Klein bottle is $H_0=\\Z$ and $H_1=\\Z\\oplus\\Z/2\\Z$. This program does not detect the 2-torsion term in the first degree."
   ]
  }
 ],
 "metadata": {
  "kernelspec": {
   "display_name": "base",
   "language": "python",
   "name": "python3"
  },
  "language_info": {
   "codemirror_mode": {
    "name": "ipython",
    "version": 3
   },
   "file_extension": ".py",
   "mimetype": "text/x-python",
   "name": "python",
   "nbconvert_exporter": "python",
   "pygments_lexer": "ipython3",
   "version": "3.11.7"
  }
 },
 "nbformat": 4,
 "nbformat_minor": 2
}
